{
  "nbformat": 4,
  "nbformat_minor": 0,
  "metadata": {
    "colab": {
      "provenance": []
    },
    "kernelspec": {
      "name": "python3",
      "display_name": "Python 3"
    },
    "language_info": {
      "name": "python"
    }
  },
  "cells": [
    {
      "cell_type": "code",
      "source": [
        "import textwrap"
      ],
      "metadata": {
        "id": "2xsM7CkXdkG-"
      },
      "execution_count": null,
      "outputs": []
    },
    {
      "cell_type": "code",
      "execution_count": null,
      "metadata": {
        "colab": {
          "base_uri": "https://localhost:8080/",
          "height": 313
        },
        "id": "yNs3NAX9QAtF",
        "outputId": "69b1f2bb-136c-4ae8-ecbd-3ca276da3ae9"
      },
      "outputs": [
        {
          "output_type": "execute_result",
          "data": {
            "text/plain": [
              "     ID_compra filial       cidade tipo_cliente     genero       tipo_produto  \\\n",
              "0  750-67-8428      A  Santo André       Membro   Feminino     Saúde e Beleza   \n",
              "1  226-31-3081      C  São Caetano       Normal   Feminino        Eletrônicos   \n",
              "2  631-41-3108      A  Santo André       Normal  Masculino               Casa   \n",
              "3  123-19-1176      A  Santo André       Membro  Masculino     Saúde e Beleza   \n",
              "4  373-73-7910      A  Santo André       Normal  Masculino  Esportes e Viagem   \n",
              "\n",
              "   preco_unitario  quantidade  imposto_5%     total        data      hora  \\\n",
              "0           74.69           7     26.1415  548.9715  2024-01-05  13:08:00   \n",
              "1           15.28           5      3.8200   80.2200  2024-03-08  10:29:00   \n",
              "2           46.33           7     16.2155  340.5255  2024-03-03  13:23:00   \n",
              "3           58.22           8     23.2880  489.0480  2024-01-27  20:33:00   \n",
              "4           86.31           7     30.2085  634.3785  2024-02-08  10:37:00   \n",
              "\n",
              "     forma_pagamento  avaliacao  \n",
              "0   Carteira Digital        9.1  \n",
              "1           Dinheiro        9.6  \n",
              "2  Cartão de Crédito        7.4  \n",
              "3   Carteira Digital        8.4  \n",
              "4   Carteira Digital        5.3  "
            ],
            "text/html": [
              "\n",
              "  <div id=\"df-500e753c-8391-40f3-be1a-22123ddcc3a6\" class=\"colab-df-container\">\n",
              "    <div>\n",
              "<style scoped>\n",
              "    .dataframe tbody tr th:only-of-type {\n",
              "        vertical-align: middle;\n",
              "    }\n",
              "\n",
              "    .dataframe tbody tr th {\n",
              "        vertical-align: top;\n",
              "    }\n",
              "\n",
              "    .dataframe thead th {\n",
              "        text-align: right;\n",
              "    }\n",
              "</style>\n",
              "<table border=\"1\" class=\"dataframe\">\n",
              "  <thead>\n",
              "    <tr style=\"text-align: right;\">\n",
              "      <th></th>\n",
              "      <th>ID_compra</th>\n",
              "      <th>filial</th>\n",
              "      <th>cidade</th>\n",
              "      <th>tipo_cliente</th>\n",
              "      <th>genero</th>\n",
              "      <th>tipo_produto</th>\n",
              "      <th>preco_unitario</th>\n",
              "      <th>quantidade</th>\n",
              "      <th>imposto_5%</th>\n",
              "      <th>total</th>\n",
              "      <th>data</th>\n",
              "      <th>hora</th>\n",
              "      <th>forma_pagamento</th>\n",
              "      <th>avaliacao</th>\n",
              "    </tr>\n",
              "  </thead>\n",
              "  <tbody>\n",
              "    <tr>\n",
              "      <th>0</th>\n",
              "      <td>750-67-8428</td>\n",
              "      <td>A</td>\n",
              "      <td>Santo André</td>\n",
              "      <td>Membro</td>\n",
              "      <td>Feminino</td>\n",
              "      <td>Saúde e Beleza</td>\n",
              "      <td>74.69</td>\n",
              "      <td>7</td>\n",
              "      <td>26.1415</td>\n",
              "      <td>548.9715</td>\n",
              "      <td>2024-01-05</td>\n",
              "      <td>13:08:00</td>\n",
              "      <td>Carteira Digital</td>\n",
              "      <td>9.1</td>\n",
              "    </tr>\n",
              "    <tr>\n",
              "      <th>1</th>\n",
              "      <td>226-31-3081</td>\n",
              "      <td>C</td>\n",
              "      <td>São Caetano</td>\n",
              "      <td>Normal</td>\n",
              "      <td>Feminino</td>\n",
              "      <td>Eletrônicos</td>\n",
              "      <td>15.28</td>\n",
              "      <td>5</td>\n",
              "      <td>3.8200</td>\n",
              "      <td>80.2200</td>\n",
              "      <td>2024-03-08</td>\n",
              "      <td>10:29:00</td>\n",
              "      <td>Dinheiro</td>\n",
              "      <td>9.6</td>\n",
              "    </tr>\n",
              "    <tr>\n",
              "      <th>2</th>\n",
              "      <td>631-41-3108</td>\n",
              "      <td>A</td>\n",
              "      <td>Santo André</td>\n",
              "      <td>Normal</td>\n",
              "      <td>Masculino</td>\n",
              "      <td>Casa</td>\n",
              "      <td>46.33</td>\n",
              "      <td>7</td>\n",
              "      <td>16.2155</td>\n",
              "      <td>340.5255</td>\n",
              "      <td>2024-03-03</td>\n",
              "      <td>13:23:00</td>\n",
              "      <td>Cartão de Crédito</td>\n",
              "      <td>7.4</td>\n",
              "    </tr>\n",
              "    <tr>\n",
              "      <th>3</th>\n",
              "      <td>123-19-1176</td>\n",
              "      <td>A</td>\n",
              "      <td>Santo André</td>\n",
              "      <td>Membro</td>\n",
              "      <td>Masculino</td>\n",
              "      <td>Saúde e Beleza</td>\n",
              "      <td>58.22</td>\n",
              "      <td>8</td>\n",
              "      <td>23.2880</td>\n",
              "      <td>489.0480</td>\n",
              "      <td>2024-01-27</td>\n",
              "      <td>20:33:00</td>\n",
              "      <td>Carteira Digital</td>\n",
              "      <td>8.4</td>\n",
              "    </tr>\n",
              "    <tr>\n",
              "      <th>4</th>\n",
              "      <td>373-73-7910</td>\n",
              "      <td>A</td>\n",
              "      <td>Santo André</td>\n",
              "      <td>Normal</td>\n",
              "      <td>Masculino</td>\n",
              "      <td>Esportes e Viagem</td>\n",
              "      <td>86.31</td>\n",
              "      <td>7</td>\n",
              "      <td>30.2085</td>\n",
              "      <td>634.3785</td>\n",
              "      <td>2024-02-08</td>\n",
              "      <td>10:37:00</td>\n",
              "      <td>Carteira Digital</td>\n",
              "      <td>5.3</td>\n",
              "    </tr>\n",
              "  </tbody>\n",
              "</table>\n",
              "</div>\n",
              "    <div class=\"colab-df-buttons\">\n",
              "\n",
              "  <div class=\"colab-df-container\">\n",
              "    <button class=\"colab-df-convert\" onclick=\"convertToInteractive('df-500e753c-8391-40f3-be1a-22123ddcc3a6')\"\n",
              "            title=\"Convert this dataframe to an interactive table.\"\n",
              "            style=\"display:none;\">\n",
              "\n",
              "  <svg xmlns=\"http://www.w3.org/2000/svg\" height=\"24px\" viewBox=\"0 -960 960 960\">\n",
              "    <path d=\"M120-120v-720h720v720H120Zm60-500h600v-160H180v160Zm220 220h160v-160H400v160Zm0 220h160v-160H400v160ZM180-400h160v-160H180v160Zm440 0h160v-160H620v160ZM180-180h160v-160H180v160Zm440 0h160v-160H620v160Z\"/>\n",
              "  </svg>\n",
              "    </button>\n",
              "\n",
              "  <style>\n",
              "    .colab-df-container {\n",
              "      display:flex;\n",
              "      gap: 12px;\n",
              "    }\n",
              "\n",
              "    .colab-df-convert {\n",
              "      background-color: #E8F0FE;\n",
              "      border: none;\n",
              "      border-radius: 50%;\n",
              "      cursor: pointer;\n",
              "      display: none;\n",
              "      fill: #1967D2;\n",
              "      height: 32px;\n",
              "      padding: 0 0 0 0;\n",
              "      width: 32px;\n",
              "    }\n",
              "\n",
              "    .colab-df-convert:hover {\n",
              "      background-color: #E2EBFA;\n",
              "      box-shadow: 0px 1px 2px rgba(60, 64, 67, 0.3), 0px 1px 3px 1px rgba(60, 64, 67, 0.15);\n",
              "      fill: #174EA6;\n",
              "    }\n",
              "\n",
              "    .colab-df-buttons div {\n",
              "      margin-bottom: 4px;\n",
              "    }\n",
              "\n",
              "    [theme=dark] .colab-df-convert {\n",
              "      background-color: #3B4455;\n",
              "      fill: #D2E3FC;\n",
              "    }\n",
              "\n",
              "    [theme=dark] .colab-df-convert:hover {\n",
              "      background-color: #434B5C;\n",
              "      box-shadow: 0px 1px 3px 1px rgba(0, 0, 0, 0.15);\n",
              "      filter: drop-shadow(0px 1px 2px rgba(0, 0, 0, 0.3));\n",
              "      fill: #FFFFFF;\n",
              "    }\n",
              "  </style>\n",
              "\n",
              "    <script>\n",
              "      const buttonEl =\n",
              "        document.querySelector('#df-500e753c-8391-40f3-be1a-22123ddcc3a6 button.colab-df-convert');\n",
              "      buttonEl.style.display =\n",
              "        google.colab.kernel.accessAllowed ? 'block' : 'none';\n",
              "\n",
              "      async function convertToInteractive(key) {\n",
              "        const element = document.querySelector('#df-500e753c-8391-40f3-be1a-22123ddcc3a6');\n",
              "        const dataTable =\n",
              "          await google.colab.kernel.invokeFunction('convertToInteractive',\n",
              "                                                    [key], {});\n",
              "        if (!dataTable) return;\n",
              "\n",
              "        const docLinkHtml = 'Like what you see? Visit the ' +\n",
              "          '<a target=\"_blank\" href=https://colab.research.google.com/notebooks/data_table.ipynb>data table notebook</a>'\n",
              "          + ' to learn more about interactive tables.';\n",
              "        element.innerHTML = '';\n",
              "        dataTable['output_type'] = 'display_data';\n",
              "        await google.colab.output.renderOutput(dataTable, element);\n",
              "        const docLink = document.createElement('div');\n",
              "        docLink.innerHTML = docLinkHtml;\n",
              "        element.appendChild(docLink);\n",
              "      }\n",
              "    </script>\n",
              "  </div>\n",
              "\n",
              "\n",
              "<div id=\"df-d48fafdd-cc05-4444-b27a-4f215a7cea5a\">\n",
              "  <button class=\"colab-df-quickchart\" onclick=\"quickchart('df-d48fafdd-cc05-4444-b27a-4f215a7cea5a')\"\n",
              "            title=\"Suggest charts\"\n",
              "            style=\"display:none;\">\n",
              "\n",
              "<svg xmlns=\"http://www.w3.org/2000/svg\" height=\"24px\"viewBox=\"0 0 24 24\"\n",
              "     width=\"24px\">\n",
              "    <g>\n",
              "        <path d=\"M19 3H5c-1.1 0-2 .9-2 2v14c0 1.1.9 2 2 2h14c1.1 0 2-.9 2-2V5c0-1.1-.9-2-2-2zM9 17H7v-7h2v7zm4 0h-2V7h2v10zm4 0h-2v-4h2v4z\"/>\n",
              "    </g>\n",
              "</svg>\n",
              "  </button>\n",
              "\n",
              "<style>\n",
              "  .colab-df-quickchart {\n",
              "      --bg-color: #E8F0FE;\n",
              "      --fill-color: #1967D2;\n",
              "      --hover-bg-color: #E2EBFA;\n",
              "      --hover-fill-color: #174EA6;\n",
              "      --disabled-fill-color: #AAA;\n",
              "      --disabled-bg-color: #DDD;\n",
              "  }\n",
              "\n",
              "  [theme=dark] .colab-df-quickchart {\n",
              "      --bg-color: #3B4455;\n",
              "      --fill-color: #D2E3FC;\n",
              "      --hover-bg-color: #434B5C;\n",
              "      --hover-fill-color: #FFFFFF;\n",
              "      --disabled-bg-color: #3B4455;\n",
              "      --disabled-fill-color: #666;\n",
              "  }\n",
              "\n",
              "  .colab-df-quickchart {\n",
              "    background-color: var(--bg-color);\n",
              "    border: none;\n",
              "    border-radius: 50%;\n",
              "    cursor: pointer;\n",
              "    display: none;\n",
              "    fill: var(--fill-color);\n",
              "    height: 32px;\n",
              "    padding: 0;\n",
              "    width: 32px;\n",
              "  }\n",
              "\n",
              "  .colab-df-quickchart:hover {\n",
              "    background-color: var(--hover-bg-color);\n",
              "    box-shadow: 0 1px 2px rgba(60, 64, 67, 0.3), 0 1px 3px 1px rgba(60, 64, 67, 0.15);\n",
              "    fill: var(--button-hover-fill-color);\n",
              "  }\n",
              "\n",
              "  .colab-df-quickchart-complete:disabled,\n",
              "  .colab-df-quickchart-complete:disabled:hover {\n",
              "    background-color: var(--disabled-bg-color);\n",
              "    fill: var(--disabled-fill-color);\n",
              "    box-shadow: none;\n",
              "  }\n",
              "\n",
              "  .colab-df-spinner {\n",
              "    border: 2px solid var(--fill-color);\n",
              "    border-color: transparent;\n",
              "    border-bottom-color: var(--fill-color);\n",
              "    animation:\n",
              "      spin 1s steps(1) infinite;\n",
              "  }\n",
              "\n",
              "  @keyframes spin {\n",
              "    0% {\n",
              "      border-color: transparent;\n",
              "      border-bottom-color: var(--fill-color);\n",
              "      border-left-color: var(--fill-color);\n",
              "    }\n",
              "    20% {\n",
              "      border-color: transparent;\n",
              "      border-left-color: var(--fill-color);\n",
              "      border-top-color: var(--fill-color);\n",
              "    }\n",
              "    30% {\n",
              "      border-color: transparent;\n",
              "      border-left-color: var(--fill-color);\n",
              "      border-top-color: var(--fill-color);\n",
              "      border-right-color: var(--fill-color);\n",
              "    }\n",
              "    40% {\n",
              "      border-color: transparent;\n",
              "      border-right-color: var(--fill-color);\n",
              "      border-top-color: var(--fill-color);\n",
              "    }\n",
              "    60% {\n",
              "      border-color: transparent;\n",
              "      border-right-color: var(--fill-color);\n",
              "    }\n",
              "    80% {\n",
              "      border-color: transparent;\n",
              "      border-right-color: var(--fill-color);\n",
              "      border-bottom-color: var(--fill-color);\n",
              "    }\n",
              "    90% {\n",
              "      border-color: transparent;\n",
              "      border-bottom-color: var(--fill-color);\n",
              "    }\n",
              "  }\n",
              "</style>\n",
              "\n",
              "  <script>\n",
              "    async function quickchart(key) {\n",
              "      const quickchartButtonEl =\n",
              "        document.querySelector('#' + key + ' button');\n",
              "      quickchartButtonEl.disabled = true;  // To prevent multiple clicks.\n",
              "      quickchartButtonEl.classList.add('colab-df-spinner');\n",
              "      try {\n",
              "        const charts = await google.colab.kernel.invokeFunction(\n",
              "            'suggestCharts', [key], {});\n",
              "      } catch (error) {\n",
              "        console.error('Error during call to suggestCharts:', error);\n",
              "      }\n",
              "      quickchartButtonEl.classList.remove('colab-df-spinner');\n",
              "      quickchartButtonEl.classList.add('colab-df-quickchart-complete');\n",
              "    }\n",
              "    (() => {\n",
              "      let quickchartButtonEl =\n",
              "        document.querySelector('#df-d48fafdd-cc05-4444-b27a-4f215a7cea5a button');\n",
              "      quickchartButtonEl.style.display =\n",
              "        google.colab.kernel.accessAllowed ? 'block' : 'none';\n",
              "    })();\n",
              "  </script>\n",
              "</div>\n",
              "\n",
              "    </div>\n",
              "  </div>\n"
            ],
            "application/vnd.google.colaboratory.intrinsic+json": {
              "type": "dataframe",
              "variable_name": "df",
              "summary": "{\n  \"name\": \"df\",\n  \"rows\": 1000,\n  \"fields\": [\n    {\n      \"column\": \"ID_compra\",\n      \"properties\": {\n        \"dtype\": \"string\",\n        \"num_unique_values\": 1000,\n        \"samples\": [\n          \"451-28-5717\",\n          \"137-63-5492\",\n          \"733-29-1227\"\n        ],\n        \"semantic_type\": \"\",\n        \"description\": \"\"\n      }\n    },\n    {\n      \"column\": \"filial\",\n      \"properties\": {\n        \"dtype\": \"category\",\n        \"num_unique_values\": 3,\n        \"samples\": [\n          \"A\",\n          \"C\",\n          \"B\"\n        ],\n        \"semantic_type\": \"\",\n        \"description\": \"\"\n      }\n    },\n    {\n      \"column\": \"cidade\",\n      \"properties\": {\n        \"dtype\": \"category\",\n        \"num_unique_values\": 3,\n        \"samples\": [\n          \"Santo Andr\\u00e9\",\n          \"S\\u00e3o Caetano\",\n          \"S\\u00e3o Bernardo do Campo\"\n        ],\n        \"semantic_type\": \"\",\n        \"description\": \"\"\n      }\n    },\n    {\n      \"column\": \"tipo_cliente\",\n      \"properties\": {\n        \"dtype\": \"category\",\n        \"num_unique_values\": 2,\n        \"samples\": [\n          \"Normal\",\n          \"Membro\"\n        ],\n        \"semantic_type\": \"\",\n        \"description\": \"\"\n      }\n    },\n    {\n      \"column\": \"genero\",\n      \"properties\": {\n        \"dtype\": \"category\",\n        \"num_unique_values\": 2,\n        \"samples\": [\n          \"Masculino\",\n          \"Feminino\"\n        ],\n        \"semantic_type\": \"\",\n        \"description\": \"\"\n      }\n    },\n    {\n      \"column\": \"tipo_produto\",\n      \"properties\": {\n        \"dtype\": \"category\",\n        \"num_unique_values\": 6,\n        \"samples\": [\n          \"Sa\\u00fade e Beleza\",\n          \"Eletr\\u00f4nicos\"\n        ],\n        \"semantic_type\": \"\",\n        \"description\": \"\"\n      }\n    },\n    {\n      \"column\": \"preco_unitario\",\n      \"properties\": {\n        \"dtype\": \"number\",\n        \"std\": 26.494628347919768,\n        \"min\": 10.08,\n        \"max\": 99.96,\n        \"num_unique_values\": 943,\n        \"samples\": [\n          12.45,\n          70.74\n        ],\n        \"semantic_type\": \"\",\n        \"description\": \"\"\n      }\n    },\n    {\n      \"column\": \"quantidade\",\n      \"properties\": {\n        \"dtype\": \"number\",\n        \"std\": 2,\n        \"min\": 1,\n        \"max\": 10,\n        \"num_unique_values\": 10,\n        \"samples\": [\n          1,\n          5\n        ],\n        \"semantic_type\": \"\",\n        \"description\": \"\"\n      }\n    },\n    {\n      \"column\": \"imposto_5%\",\n      \"properties\": {\n        \"dtype\": \"number\",\n        \"std\": 11.708825480998659,\n        \"min\": 0.5085,\n        \"max\": 49.65,\n        \"num_unique_values\": 990,\n        \"samples\": [\n          0.914,\n          2.348\n        ],\n        \"semantic_type\": \"\",\n        \"description\": \"\"\n      }\n    },\n    {\n      \"column\": \"total\",\n      \"properties\": {\n        \"dtype\": \"number\",\n        \"std\": 245.88533510097207,\n        \"min\": 10.6785,\n        \"max\": 1042.65,\n        \"num_unique_values\": 990,\n        \"samples\": [\n          19.194,\n          49.308\n        ],\n        \"semantic_type\": \"\",\n        \"description\": \"\"\n      }\n    },\n    {\n      \"column\": \"data\",\n      \"properties\": {\n        \"dtype\": \"object\",\n        \"num_unique_values\": 89,\n        \"samples\": [\n          \"2024-02-14\",\n          \"2024-01-26\"\n        ],\n        \"semantic_type\": \"\",\n        \"description\": \"\"\n      }\n    },\n    {\n      \"column\": \"hora\",\n      \"properties\": {\n        \"dtype\": \"object\",\n        \"num_unique_values\": 506,\n        \"samples\": [\n          \"10:13:00\",\n          \"11:21:00\"\n        ],\n        \"semantic_type\": \"\",\n        \"description\": \"\"\n      }\n    },\n    {\n      \"column\": \"forma_pagamento\",\n      \"properties\": {\n        \"dtype\": \"category\",\n        \"num_unique_values\": 3,\n        \"samples\": [\n          \"Carteira Digital\",\n          \"Dinheiro\"\n        ],\n        \"semantic_type\": \"\",\n        \"description\": \"\"\n      }\n    },\n    {\n      \"column\": \"avaliacao\",\n      \"properties\": {\n        \"dtype\": \"number\",\n        \"std\": 1.718580294379123,\n        \"min\": 4.0,\n        \"max\": 10.0,\n        \"num_unique_values\": 61,\n        \"samples\": [\n          9.1,\n          4.1\n        ],\n        \"semantic_type\": \"\",\n        \"description\": \"\"\n      }\n    }\n  ]\n}"
            }
          },
          "metadata": {},
          "execution_count": 2
        }
      ],
      "source": [
        "import pandas as pd\n",
        "df =pd.read_csv(\"/content/drive/MyDrive/Colab Notebooks/LlmaIndex/vendas.csv\")\n",
        "df.head()"
      ]
    },
    {
      "cell_type": "code",
      "source": [
        "df.duplicated().sum()"
      ],
      "metadata": {
        "colab": {
          "base_uri": "https://localhost:8080/"
        },
        "id": "oTlWqb_uRC-X",
        "outputId": "7c4292cd-6cd4-4691-81d8-8425cb336e17"
      },
      "execution_count": null,
      "outputs": [
        {
          "output_type": "execute_result",
          "data": {
            "text/plain": [
              "np.int64(0)"
            ]
          },
          "metadata": {},
          "execution_count": 3
        }
      ]
    },
    {
      "cell_type": "code",
      "source": [
        "!pip install llama-index llama-index-experimental -q"
      ],
      "metadata": {
        "colab": {
          "base_uri": "https://localhost:8080/"
        },
        "id": "NXAEAxhGSJbG",
        "outputId": "b4624ab9-a34b-4feb-a99b-247bd7675d49"
      },
      "execution_count": null,
      "outputs": [
        {
          "output_type": "stream",
          "name": "stdout",
          "text": [
            "\u001b[2K     \u001b[90m━━━━━━━━━━━━━━━━━━━━━━━━━━━━━━━━━━━━━━━━\u001b[0m \u001b[32m81.3/81.3 kB\u001b[0m \u001b[31m3.3 MB/s\u001b[0m eta \u001b[36m0:00:00\u001b[0m\n",
            "\u001b[2K   \u001b[90m━━━━━━━━━━━━━━━━━━━━━━━━━━━━━━━━━━━━━━━━\u001b[0m \u001b[32m1.6/1.6 MB\u001b[0m \u001b[31m24.8 MB/s\u001b[0m eta \u001b[36m0:00:00\u001b[0m\n",
            "\u001b[2K   \u001b[90m━━━━━━━━━━━━━━━━━━━━━━━━━━━━━━━━━━━━━━━━\u001b[0m \u001b[32m40.8/40.8 kB\u001b[0m \u001b[31m3.4 MB/s\u001b[0m eta \u001b[36m0:00:00\u001b[0m\n",
            "\u001b[2K   \u001b[90m━━━━━━━━━━━━━━━━━━━━━━━━━━━━━━━━━━━━━━━━\u001b[0m \u001b[32m251.3/251.3 kB\u001b[0m \u001b[31m21.2 MB/s\u001b[0m eta \u001b[36m0:00:00\u001b[0m\n",
            "\u001b[2K   \u001b[90m━━━━━━━━━━━━━━━━━━━━━━━━━━━━━━━━━━━━━━━━\u001b[0m \u001b[32m302.3/302.3 kB\u001b[0m \u001b[31m24.8 MB/s\u001b[0m eta \u001b[36m0:00:00\u001b[0m\n",
            "\u001b[2K   \u001b[90m━━━━━━━━━━━━━━━━━━━━━━━━━━━━━━━━━━━━━━━━\u001b[0m \u001b[32m1.2/1.2 MB\u001b[0m \u001b[31m59.1 MB/s\u001b[0m eta \u001b[36m0:00:00\u001b[0m\n",
            "\u001b[2K   \u001b[90m━━━━━━━━━━━━━━━━━━━━━━━━━━━━━━━━━━━━━━━━\u001b[0m \u001b[32m189.2/189.2 kB\u001b[0m \u001b[31m15.2 MB/s\u001b[0m eta \u001b[36m0:00:00\u001b[0m\n",
            "\u001b[2K   \u001b[90m━━━━━━━━━━━━━━━━━━━━━━━━━━━━━━━━━━━━━━━━\u001b[0m \u001b[32m253.9/253.9 kB\u001b[0m \u001b[31m19.4 MB/s\u001b[0m eta \u001b[36m0:00:00\u001b[0m\n",
            "\u001b[2K   \u001b[90m━━━━━━━━━━━━━━━━━━━━━━━━━━━━━━━━━━━━━━━━\u001b[0m \u001b[32m50.9/50.9 kB\u001b[0m \u001b[31m4.0 MB/s\u001b[0m eta \u001b[36m0:00:00\u001b[0m\n",
            "\u001b[2K   \u001b[90m━━━━━━━━━━━━━━━━━━━━━━━━━━━━━━━━━━━━━━━━\u001b[0m \u001b[32m288.7/288.7 kB\u001b[0m \u001b[31m17.3 MB/s\u001b[0m eta \u001b[36m0:00:00\u001b[0m\n",
            "\u001b[2K   \u001b[90m━━━━━━━━━━━━━━━━━━━━━━━━━━━━━━━━━━━━━━━━\u001b[0m \u001b[32m363.4/363.4 MB\u001b[0m \u001b[31m1.8 MB/s\u001b[0m eta \u001b[36m0:00:00\u001b[0m\n",
            "\u001b[2K   \u001b[90m━━━━━━━━━━━━━━━━━━━━━━━━━━━━━━━━━━━━━━━━\u001b[0m \u001b[32m13.8/13.8 MB\u001b[0m \u001b[31m65.7 MB/s\u001b[0m eta \u001b[36m0:00:00\u001b[0m\n",
            "\u001b[2K   \u001b[90m━━━━━━━━━━━━━━━━━━━━━━━━━━━━━━━━━━━━━━━━\u001b[0m \u001b[32m24.6/24.6 MB\u001b[0m \u001b[31m73.2 MB/s\u001b[0m eta \u001b[36m0:00:00\u001b[0m\n",
            "\u001b[2K   \u001b[90m━━━━━━━━━━━━━━━━━━━━━━━━━━━━━━━━━━━━━━━━\u001b[0m \u001b[32m883.7/883.7 kB\u001b[0m \u001b[31m50.6 MB/s\u001b[0m eta \u001b[36m0:00:00\u001b[0m\n",
            "\u001b[2K   \u001b[90m━━━━━━━━━━━━━━━━━━━━━━━━━━━━━━━━━━━━━━━━\u001b[0m \u001b[32m664.8/664.8 MB\u001b[0m \u001b[31m1.0 MB/s\u001b[0m eta \u001b[36m0:00:00\u001b[0m\n",
            "\u001b[2K   \u001b[90m━━━━━━━━━━━━━━━━━━━━━━━━━━━━━━━━━━━━━━━━\u001b[0m \u001b[32m211.5/211.5 MB\u001b[0m \u001b[31m4.4 MB/s\u001b[0m eta \u001b[36m0:00:00\u001b[0m\n",
            "\u001b[2K   \u001b[90m━━━━━━━━━━━━━━━━━━━━━━━━━━━━━━━━━━━━━━━━\u001b[0m \u001b[32m56.3/56.3 MB\u001b[0m \u001b[31m11.9 MB/s\u001b[0m eta \u001b[36m0:00:00\u001b[0m\n",
            "\u001b[2K   \u001b[90m━━━━━━━━━━━━━━━━━━━━━━━━━━━━━━━━━━━━━━━━\u001b[0m \u001b[32m127.9/127.9 MB\u001b[0m \u001b[31m7.4 MB/s\u001b[0m eta \u001b[36m0:00:00\u001b[0m\n",
            "\u001b[2K   \u001b[90m━━━━━━━━━━━━━━━━━━━━━━━━━━━━━━━━━━━━━━━━\u001b[0m \u001b[32m207.5/207.5 MB\u001b[0m \u001b[31m5.5 MB/s\u001b[0m eta \u001b[36m0:00:00\u001b[0m\n",
            "\u001b[2K   \u001b[90m━━━━━━━━━━━━━━━━━━━━━━━━━━━━━━━━━━━━━━━━\u001b[0m \u001b[32m21.1/21.1 MB\u001b[0m \u001b[31m78.0 MB/s\u001b[0m eta \u001b[36m0:00:00\u001b[0m\n",
            "\u001b[2K   \u001b[90m━━━━━━━━━━━━━━━━━━━━━━━━━━━━━━━━━━━━━━━━\u001b[0m \u001b[32m198.9/198.9 kB\u001b[0m \u001b[31m16.5 MB/s\u001b[0m eta \u001b[36m0:00:00\u001b[0m\n",
            "\u001b[2K   \u001b[90m━━━━━━━━━━━━━━━━━━━━━━━━━━━━━━━━━━━━━━━━\u001b[0m \u001b[32m3.3/3.3 MB\u001b[0m \u001b[31m77.7 MB/s\u001b[0m eta \u001b[36m0:00:00\u001b[0m\n",
            "\u001b[2K   \u001b[90m━━━━━━━━━━━━━━━━━━━━━━━━━━━━━━━━━━━━━━━━\u001b[0m \u001b[32m114.7/114.7 kB\u001b[0m \u001b[31m9.4 MB/s\u001b[0m eta \u001b[36m0:00:00\u001b[0m\n",
            "\u001b[?25h"
          ]
        }
      ]
    },
    {
      "cell_type": "code",
      "source": [
        "from google.colab import userdata\n",
        "key = userdata.get('GROQ-API')"
      ],
      "metadata": {
        "id": "hkexqf0WWVOd"
      },
      "execution_count": null,
      "outputs": []
    },
    {
      "cell_type": "code",
      "source": [
        "!pip install llama-index-llms-groq -q"
      ],
      "metadata": {
        "id": "aZb1Z4lhWh7B"
      },
      "execution_count": null,
      "outputs": []
    },
    {
      "cell_type": "code",
      "source": [
        "from llama_index.core import Settings\n",
        "from llama_index.llms.groq import Groq\n",
        "\n",
        "Settings.llm = Groq(model='llama3-70b-8192', api_key=key)"
      ],
      "metadata": {
        "id": "k5N6aHZbWmY6"
      },
      "execution_count": null,
      "outputs": []
    },
    {
      "cell_type": "code",
      "source": [
        "from llama_index.experimental.query_engine.pandas import PandasQueryEngine\n",
        "\n",
        "query_engine = PandasQueryEngine(df=df, verbose=True)\n",
        "response = query_engine.query('Qual é a forma de pagamento mais utilizada pelos clientes em cada filial?')"
      ],
      "metadata": {
        "colab": {
          "base_uri": "https://localhost:8080/"
        },
        "id": "dpsrmfVZWxKR",
        "outputId": "9e942fc8-8f45-4ead-d177-67404a3298f1"
      },
      "execution_count": null,
      "outputs": [
        {
          "output_type": "stream",
          "name": "stdout",
          "text": [
            "> Pandas Instructions:\n",
            "```\n",
            "df.groupby('filial')['forma_pagamento'].value_counts().groupby('filial').idxmax()\n",
            "```\n",
            "> Pandas Output: filial\n",
            "A    (A, Carteira Digital)\n",
            "B    (B, Carteira Digital)\n",
            "C            (C, Dinheiro)\n",
            "Name: count, dtype: object\n"
          ]
        }
      ]
    },
    {
      "cell_type": "code",
      "source": [
        "df.forma_pagamento.value_counts()"
      ],
      "metadata": {
        "colab": {
          "base_uri": "https://localhost:8080/",
          "height": 209
        },
        "id": "9TEm9uzOaS6m",
        "outputId": "dc071db5-b51f-42f4-a362-ee732d9ca0c1"
      },
      "execution_count": null,
      "outputs": [
        {
          "output_type": "execute_result",
          "data": {
            "text/plain": [
              "forma_pagamento\n",
              "Carteira Digital     345\n",
              "Dinheiro             344\n",
              "Cartão de Crédito    311\n",
              "Name: count, dtype: int64"
            ],
            "text/html": [
              "<div>\n",
              "<style scoped>\n",
              "    .dataframe tbody tr th:only-of-type {\n",
              "        vertical-align: middle;\n",
              "    }\n",
              "\n",
              "    .dataframe tbody tr th {\n",
              "        vertical-align: top;\n",
              "    }\n",
              "\n",
              "    .dataframe thead th {\n",
              "        text-align: right;\n",
              "    }\n",
              "</style>\n",
              "<table border=\"1\" class=\"dataframe\">\n",
              "  <thead>\n",
              "    <tr style=\"text-align: right;\">\n",
              "      <th></th>\n",
              "      <th>count</th>\n",
              "    </tr>\n",
              "    <tr>\n",
              "      <th>forma_pagamento</th>\n",
              "      <th></th>\n",
              "    </tr>\n",
              "  </thead>\n",
              "  <tbody>\n",
              "    <tr>\n",
              "      <th>Carteira Digital</th>\n",
              "      <td>345</td>\n",
              "    </tr>\n",
              "    <tr>\n",
              "      <th>Dinheiro</th>\n",
              "      <td>344</td>\n",
              "    </tr>\n",
              "    <tr>\n",
              "      <th>Cartão de Crédito</th>\n",
              "      <td>311</td>\n",
              "    </tr>\n",
              "  </tbody>\n",
              "</table>\n",
              "</div><br><label><b>dtype:</b> int64</label>"
            ]
          },
          "metadata": {},
          "execution_count": 10
        }
      ]
    },
    {
      "cell_type": "code",
      "source": [
        "response = query_engine.query('Qual é o tipo de produto com maior quantidade por filial?')"
      ],
      "metadata": {
        "colab": {
          "base_uri": "https://localhost:8080/"
        },
        "id": "V_Tcq_8TbiJ_",
        "outputId": "dca21168-0236-4808-ba48-bfbfb4ff2122"
      },
      "execution_count": null,
      "outputs": [
        {
          "output_type": "stream",
          "name": "stdout",
          "text": [
            "> Pandas Instructions:\n",
            "```\n",
            "df.groupby(['filial', 'tipo_produto'])['quantidade'].sum().groupby('filial').idxmax()\n",
            "```\n",
            "> Pandas Output: filial\n",
            "A                   (A, Casa)\n",
            "B      (B, Esportes e Viagem)\n",
            "C    (C, Alimentos e Bebidas)\n",
            "Name: quantidade, dtype: object\n"
          ]
        }
      ]
    },
    {
      "cell_type": "code",
      "source": [
        "df.groupby(['filial', 'tipo_produto'])['quantidade'].sum()"
      ],
      "metadata": {
        "colab": {
          "base_uri": "https://localhost:8080/",
          "height": 680
        },
        "id": "HW4AJHU2bqIW",
        "outputId": "ebcc485f-c924-43d6-d3e3-0259224bb929"
      },
      "execution_count": null,
      "outputs": [
        {
          "output_type": "execute_result",
          "data": {
            "text/plain": [
              "filial  tipo_produto       \n",
              "A       Alimentos e Bebidas    313\n",
              "        Casa                   371\n",
              "        Eletrônicos            322\n",
              "        Esportes e Viagem      333\n",
              "        Moda                   263\n",
              "        Saúde e Beleza         257\n",
              "B       Alimentos e Bebidas    270\n",
              "        Casa                   295\n",
              "        Eletrônicos            316\n",
              "        Esportes e Viagem      322\n",
              "        Moda                   297\n",
              "        Saúde e Beleza         320\n",
              "C       Alimentos e Bebidas    369\n",
              "        Casa                   245\n",
              "        Eletrônicos            333\n",
              "        Esportes e Viagem      265\n",
              "        Moda                   342\n",
              "        Saúde e Beleza         277\n",
              "Name: quantidade, dtype: int64"
            ],
            "text/html": [
              "<div>\n",
              "<style scoped>\n",
              "    .dataframe tbody tr th:only-of-type {\n",
              "        vertical-align: middle;\n",
              "    }\n",
              "\n",
              "    .dataframe tbody tr th {\n",
              "        vertical-align: top;\n",
              "    }\n",
              "\n",
              "    .dataframe thead th {\n",
              "        text-align: right;\n",
              "    }\n",
              "</style>\n",
              "<table border=\"1\" class=\"dataframe\">\n",
              "  <thead>\n",
              "    <tr style=\"text-align: right;\">\n",
              "      <th></th>\n",
              "      <th></th>\n",
              "      <th>quantidade</th>\n",
              "    </tr>\n",
              "    <tr>\n",
              "      <th>filial</th>\n",
              "      <th>tipo_produto</th>\n",
              "      <th></th>\n",
              "    </tr>\n",
              "  </thead>\n",
              "  <tbody>\n",
              "    <tr>\n",
              "      <th rowspan=\"6\" valign=\"top\">A</th>\n",
              "      <th>Alimentos e Bebidas</th>\n",
              "      <td>313</td>\n",
              "    </tr>\n",
              "    <tr>\n",
              "      <th>Casa</th>\n",
              "      <td>371</td>\n",
              "    </tr>\n",
              "    <tr>\n",
              "      <th>Eletrônicos</th>\n",
              "      <td>322</td>\n",
              "    </tr>\n",
              "    <tr>\n",
              "      <th>Esportes e Viagem</th>\n",
              "      <td>333</td>\n",
              "    </tr>\n",
              "    <tr>\n",
              "      <th>Moda</th>\n",
              "      <td>263</td>\n",
              "    </tr>\n",
              "    <tr>\n",
              "      <th>Saúde e Beleza</th>\n",
              "      <td>257</td>\n",
              "    </tr>\n",
              "    <tr>\n",
              "      <th rowspan=\"6\" valign=\"top\">B</th>\n",
              "      <th>Alimentos e Bebidas</th>\n",
              "      <td>270</td>\n",
              "    </tr>\n",
              "    <tr>\n",
              "      <th>Casa</th>\n",
              "      <td>295</td>\n",
              "    </tr>\n",
              "    <tr>\n",
              "      <th>Eletrônicos</th>\n",
              "      <td>316</td>\n",
              "    </tr>\n",
              "    <tr>\n",
              "      <th>Esportes e Viagem</th>\n",
              "      <td>322</td>\n",
              "    </tr>\n",
              "    <tr>\n",
              "      <th>Moda</th>\n",
              "      <td>297</td>\n",
              "    </tr>\n",
              "    <tr>\n",
              "      <th>Saúde e Beleza</th>\n",
              "      <td>320</td>\n",
              "    </tr>\n",
              "    <tr>\n",
              "      <th rowspan=\"6\" valign=\"top\">C</th>\n",
              "      <th>Alimentos e Bebidas</th>\n",
              "      <td>369</td>\n",
              "    </tr>\n",
              "    <tr>\n",
              "      <th>Casa</th>\n",
              "      <td>245</td>\n",
              "    </tr>\n",
              "    <tr>\n",
              "      <th>Eletrônicos</th>\n",
              "      <td>333</td>\n",
              "    </tr>\n",
              "    <tr>\n",
              "      <th>Esportes e Viagem</th>\n",
              "      <td>265</td>\n",
              "    </tr>\n",
              "    <tr>\n",
              "      <th>Moda</th>\n",
              "      <td>342</td>\n",
              "    </tr>\n",
              "    <tr>\n",
              "      <th>Saúde e Beleza</th>\n",
              "      <td>277</td>\n",
              "    </tr>\n",
              "  </tbody>\n",
              "</table>\n",
              "</div><br><label><b>dtype:</b> int64</label>"
            ]
          },
          "metadata": {},
          "execution_count": 12
        }
      ]
    },
    {
      "cell_type": "code",
      "source": [
        "query_engine = PandasQueryEngine(df=df, verbose=True, synthesize_response=True)\n"
      ],
      "metadata": {
        "id": "GaoVxOTxbs0g"
      },
      "execution_count": null,
      "outputs": []
    },
    {
      "cell_type": "code",
      "source": [
        "response = query_engine.query('Qual é a avaliação média de cada filial?')"
      ],
      "metadata": {
        "colab": {
          "base_uri": "https://localhost:8080/"
        },
        "id": "jtr9Q8W0dfW7",
        "outputId": "858f6421-fe84-4bf3-ad25-8f2326488abb"
      },
      "execution_count": null,
      "outputs": [
        {
          "output_type": "stream",
          "name": "stdout",
          "text": [
            "> Pandas Instructions:\n",
            "```\n",
            "df.groupby('filial')['avaliacao'].mean()\n",
            "```\n",
            "> Pandas Output: filial\n",
            "A    7.027059\n",
            "B    6.818072\n",
            "C    7.072866\n",
            "Name: avaliacao, dtype: float64\n"
          ]
        }
      ]
    },
    {
      "cell_type": "code",
      "source": [
        "def formatar_texto(response):\n",
        "    texto = response.response\n",
        "    texto_formatado = textwrap.fill(texto, width=100)\n",
        "    print(texto_formatado)"
      ],
      "metadata": {
        "id": "WSjRlnQWdgqi"
      },
      "execution_count": null,
      "outputs": []
    },
    {
      "cell_type": "code",
      "source": [
        "formatar_texto(response)"
      ],
      "metadata": {
        "colab": {
          "base_uri": "https://localhost:8080/"
        },
        "id": "LiqlmBQxdnO7",
        "outputId": "82aa8f93-0fee-43df-fa4d-c50d9ca41026"
      },
      "execution_count": null,
      "outputs": [
        {
          "output_type": "stream",
          "name": "stdout",
          "text": [
            "A avaliação média de cada filial é a seguinte: a filial A tem uma avaliação média de 7.03, a filial\n",
            "B tem uma avaliação média de 6.82 e a filial C tem uma avaliação média de 7.07.\n"
          ]
        }
      ]
    },
    {
      "cell_type": "code",
      "source": [
        "response = query_engine.query('''Plote o valor total por tipo de produto,\n",
        "ordenando do menor para o maior e mantendo as barras na horizontal''')"
      ],
      "metadata": {
        "colab": {
          "base_uri": "https://localhost:8080/",
          "height": 517
        },
        "id": "tjN52D05drcK",
        "outputId": "99171498-5853-45c7-b4a5-5fee17a8a41f"
      },
      "execution_count": null,
      "outputs": [
        {
          "output_type": "stream",
          "name": "stdout",
          "text": [
            "> Pandas Instructions:\n",
            "```\n",
            "df.groupby('tipo_produto')['total'].sum().sort_values().plot(kind='barh')\n",
            "```\n",
            "> Pandas Output: Axes(0.125,0.11;0.775x0.77)\n"
          ]
        },
        {
          "output_type": "display_data",
          "data": {
            "text/plain": [
              "<Figure size 640x480 with 1 Axes>"
            ],
            "image/png": "[encoded data removed]"
          },
          "metadata": {}
        }
      ]
    },
    {
      "cell_type": "code",
      "source": [
        "query_engine = PandasQueryEngine(df=df, verbose=True)\n",
        "response = query_engine.query('Qual é o faturamento de cada unidade? Ordene do maior para o menor valor')"
      ],
      "metadata": {
        "colab": {
          "base_uri": "https://localhost:8080/"
        },
        "id": "ENrw14A5fbdv",
        "outputId": "f2d73c46-3a4d-4695-ae49-c8b111bb9766"
      },
      "execution_count": null,
      "outputs": [
        {
          "output_type": "stream",
          "name": "stdout",
          "text": [
            "> Pandas Instructions:\n",
            "```\n",
            "df.groupby('filial')['total'].sum().sort_values(ascending=False)\n",
            "```\n",
            "> Pandas Output: filial\n",
            "C    110568.7065\n",
            "A    106200.3705\n",
            "B    106197.6720\n",
            "Name: total, dtype: float64\n"
          ]
        }
      ]
    },
    {
      "cell_type": "code",
      "source": [
        "response = query_engine.query('Qual é a média de gasto por tipo de cliente?')\n",
        "print(response.response)"
      ],
      "metadata": {
        "colab": {
          "base_uri": "https://localhost:8080/"
        },
        "id": "ldmH75upiA12",
        "outputId": "74b63a98-6daa-4837-da0c-f0da1f3b3780"
      },
      "execution_count": null,
      "outputs": [
        {
          "output_type": "stream",
          "name": "stdout",
          "text": [
            "> Pandas Instructions:\n",
            "```\n",
            "df.groupby('tipo_cliente')['total'].mean()\n",
            "```\n",
            "> Pandas Output: tipo_cliente\n",
            "Membro    327.791305\n",
            "Normal    318.122856\n",
            "Name: total, dtype: float64\n",
            "tipo_cliente\n",
            "Membro    327.791305\n",
            "Normal    318.122856\n",
            "Name: total, dtype: float64\n"
          ]
        }
      ]
    },
    {
      "cell_type": "code",
      "source": [
        "from llama_index.core import PromptTemplate\n",
        "from llama_index.experimental.query_engine.pandas import PandasInstructionParser"
      ],
      "metadata": {
        "id": "CbRyAZA5iM1W"
      },
      "execution_count": null,
      "outputs": []
    },
    {
      "cell_type": "code",
      "source": [
        "# Função para obter uma descrição das colunas do DataFrame\n",
        "def descricao_colunas(df):\n",
        "  descricao = '\\n'.join([f\"`{col}`: {str(df[col].dtype)}\" for col in df.columns])\n",
        "  return 'Aqui estão os detalhes das colunas do DataFrame:\\n' + descricao\n",
        "\n",
        "# Instruções para orientar o modelo a converter uma consulta em linguagem natural em código Python executável com a biblioteca Pandas\n",
        "instruction_str = (\n",
        "    \"1. Converta a consulta para código Python executável usando Pandas.\\n\"\n",
        "    \"2. A linha final do código deve ser uma expressão Python que possa ser chamada com a função `eval()`.\\n\"\n",
        "    \"3. O código deve representar uma solução para a consulta.\\n\"\n",
        "    \"4. IMPRIMA APENAS A EXPRESSÃO.\\n\"\n",
        "    \"5. Não coloque a expressão entre aspas.\\n\")\n",
        "\n",
        "# Prompt que será enviado ao modelo para que ela gere o código Pandas desejado\n",
        "pandas_prompt_str = (\n",
        "    \"Você está trabalhando com um dataframe do pandas em Python chamado `df`.\\n\"\n",
        "    \"{colunas_detalhes}\\n\\n\"\n",
        "    \"Este é o resultado de `print(df.head())`:\\n\"\n",
        "    \"{df_str}\\n\\n\"\n",
        "    \"Siga estas instruções:\\n\"\n",
        "    \"{instruction_str}\\n\"\n",
        "    \"Consulta: {query_str}\\n\\n\"\n",
        "    \"Expressão:\"\n",
        ")\n",
        "\n",
        "# Prompt para guiar o modelo a sintetizar uma resposta com base nos resultados obtidos pela consulta Pandas\n",
        "response_synthesis_prompt_str = (\n",
        "   \"Dada uma pergunta de entrada, atue como analista de dados e elabore uma resposta a partir dos resultados da consulta.\\n\"\n",
        "   \"Responda de forma natural, sem introduções como 'A resposta é:' ou algo semelhante.\\n\"\n",
        "   \"Consulta: {query_str}\\n\\n\"\n",
        "   \"Instruções do Pandas (opcional):\\n{pandas_instructions}\\n\\n\"\n",
        "   \"Saída do Pandas: {pandas_output}\\n\\n\"\n",
        "   \"Resposta:\"\n",
        "   \"Ao final, exibir o código usado para gerar a resposta, no formato: O código utilizado foi {pandas_instructions}\"\n",
        ")\n",
        "\n",
        "# Módulo para obter as instruções Pandas\n",
        "pandas_prompt = PromptTemplate(pandas_prompt_str).partial_format(\n",
        "    instruction_str=instruction_str, colunas_detalhes=descricao_colunas(df), df_str=df.head(5)\n",
        ")\n",
        "# Módulo para executar as instruções Pandas\n",
        "pandas_output_parser = PandasInstructionParser(df)\n",
        "\n",
        "# Módulo para sintetizar a resposta\n",
        "response_synthesis_prompt = PromptTemplate(response_synthesis_prompt_str)\n",
        "\n",
        "# Modelo\n",
        "llm = Groq(model='llama3-70b-8192', api_key=key)"
      ],
      "metadata": {
        "id": "3zuzrLHVlsMd"
      },
      "execution_count": null,
      "outputs": []
    },
    {
      "cell_type": "code",
      "source": [
        "from llama_index.core.query_pipeline import (QueryPipeline as QP, Link, InputComponent)"
      ],
      "metadata": {
        "id": "X947zQlFl-wn"
      },
      "execution_count": null,
      "outputs": []
    },
    {
      "cell_type": "code",
      "source": [
        "qp = QP(\n",
        "    modules = {\n",
        "        \"input\":InputComponent(),\n",
        "        \"pandas_prompt\": pandas_prompt,\n",
        "        \"llm1\":llm,\n",
        "        \"pandas_output_parser\":pandas_output_parser,\n",
        "        \"response_synthesis_prompt\":response_synthesis_prompt,\n",
        "        \"llm2\":llm\n",
        "    },\n",
        "    verbose=True\n",
        ")\n",
        "\n",
        "qp.add_chain([\"input\",\"pandas_prompt\",\"llm1\",\"pandas_output_parser\"])\n",
        "\n",
        "qp.add_links(\n",
        "    [\n",
        "        Link(\"input\", \"response_synthesis_prompt\", dest_key=\"query_str\"),\n",
        "        Link(\n",
        "            \"llm1\", \"response_synthesis_prompt\", dest_key=\"pandas_instructions\"\n",
        "        ),\n",
        "        Link(\n",
        "            \"pandas_output_parser\",\n",
        "            \"response_synthesis_prompt\",\n",
        "            dest_key=\"pandas_output\",\n",
        "        ),\n",
        "    ]\n",
        ")\n",
        "qp.add_link(\"response_synthesis_prompt\", \"llm2\")"
      ],
      "metadata": {
        "id": "JJ3bnofJmXqi"
      },
      "execution_count": null,
      "outputs": []
    },
    {
      "cell_type": "code",
      "source": [
        "response = qp.run(query_str=\"Qual é a média gasta por cada tipo de cliente?\")"
      ],
      "metadata": {
        "colab": {
          "base_uri": "https://localhost:8080/"
        },
        "id": "w-rPqLkMolng",
        "outputId": "e8b9f3b0-aff2-4c8e-e8a9-0fdd401b23db"
      },
      "execution_count": null,
      "outputs": [
        {
          "output_type": "stream",
          "name": "stdout",
          "text": [
            "\u001b[1;3;38;2;155;135;227m> Running module input with input: \n",
            "query_str: Qual é a média gasta por cada tipo de cliente?\n",
            "\n",
            "\u001b[0m\u001b[1;3;38;2;155;135;227m> Running module pandas_prompt with input: \n",
            "query_str: Qual é a média gasta por cada tipo de cliente?\n",
            "\n",
            "\u001b[0m\u001b[1;3;38;2;155;135;227m> Running module llm1 with input: \n",
            "messages: Você está trabalhando com um dataframe do pandas em Python chamado `df`.\n",
            "Aqui estão os detalhes das colunas do DataFrame:\n",
            "`ID_compra`: object\n",
            "`filial`: object\n",
            "`cidade`: object\n",
            "`tipo_cliente`: object\n",
            "`...\n",
            "\n",
            "\u001b[0m\u001b[1;3;38;2;155;135;227m> Running module pandas_output_parser with input: \n",
            "input: assistant: df.groupby('tipo_cliente')['total'].mean()\n",
            "\n",
            "\u001b[0m\u001b[1;3;38;2;155;135;227m> Running module response_synthesis_prompt with input: \n",
            "query_str: Qual é a média gasta por cada tipo de cliente?\n",
            "pandas_instructions: assistant: df.groupby('tipo_cliente')['total'].mean()\n",
            "pandas_output: tipo_cliente\n",
            "Membro    327.791305\n",
            "Normal    318.122856\n",
            "Name: total, dtype: float64\n",
            "\n",
            "\u001b[0m\u001b[1;3;38;2;155;135;227m> Running module llm2 with input: \n",
            "messages: Dada uma pergunta de entrada, atue como analista de dados e elabore uma resposta a partir dos resultados da consulta.\n",
            "Responda de forma natural, sem introduções como 'A resposta é:' ou algo semelhante...\n",
            "\n",
            "\u001b[0m"
          ]
        }
      ]
    },
    {
      "cell_type": "code",
      "source": [
        "texto = response.message.content\n",
        "texto_formatado = textwrap.fill(texto, width=100)\n",
        "print(texto_formatado)"
      ],
      "metadata": {
        "colab": {
          "base_uri": "https://localhost:8080/"
        },
        "id": "qYlBnzlZo9SB",
        "outputId": "4ab6acd7-cd4c-4883-d47a-f95bdd0c5f4c"
      },
      "execution_count": null,
      "outputs": [
        {
          "output_type": "stream",
          "name": "stdout",
          "text": [
            "A média gasta por cada tipo de cliente é de R$ 327,79 para os clientes Membro e R$ 318,12 para os\n",
            "clientes Normal.  O código utilizado foi df.groupby('tipo_cliente')['total'].mean()\n"
          ]
        }
      ]
    },
    {
      "cell_type": "code",
      "source": [
        "!pip install gradio -q"
      ],
      "metadata": {
        "colab": {
          "base_uri": "https://localhost:8080/"
        },
        "id": "TdGKQNocq9oU",
        "outputId": "925d1fba-db9b-4061-de32-f5042421dcc3"
      },
      "execution_count": null,
      "outputs": [
        {
          "output_type": "stream",
          "name": "stdout",
          "text": [
            "\u001b[2K   \u001b[90m━━━━━━━━━━━━━━━━━━━━━━━━━━━━━━━━━━━━━━━━\u001b[0m \u001b[32m51.3/51.3 MB\u001b[0m \u001b[31m13.0 MB/s\u001b[0m eta \u001b[36m0:00:00\u001b[0m\n",
            "\u001b[2K   \u001b[90m━━━━━━━━━━━━━━━━━━━━━━━━━━━━━━━━━━━━━━━━\u001b[0m \u001b[32m322.2/322.2 kB\u001b[0m \u001b[31m27.3 MB/s\u001b[0m eta \u001b[36m0:00:00\u001b[0m\n",
            "\u001b[2K   \u001b[90m━━━━━━━━━━━━━━━━━━━━━━━━━━━━━━━━━━━━━━━━\u001b[0m \u001b[32m95.2/95.2 kB\u001b[0m \u001b[31m9.3 MB/s\u001b[0m eta \u001b[36m0:00:00\u001b[0m\n",
            "\u001b[2K   \u001b[90m━━━━━━━━━━━━━━━━━━━━━━━━━━━━━━━━━━━━━━━━\u001b[0m \u001b[32m11.3/11.3 MB\u001b[0m \u001b[31m99.5 MB/s\u001b[0m eta \u001b[36m0:00:00\u001b[0m\n",
            "\u001b[2K   \u001b[90m━━━━━━━━━━━━━━━━━━━━━━━━━━━━━━━━━━━━━━━━\u001b[0m \u001b[32m72.0/72.0 kB\u001b[0m \u001b[31m6.6 MB/s\u001b[0m eta \u001b[36m0:00:00\u001b[0m\n",
            "\u001b[2K   \u001b[90m━━━━━━━━━━━━━━━━━━━━━━━━━━━━━━━━━━━━━━━━\u001b[0m \u001b[32m62.3/62.3 kB\u001b[0m \u001b[31m5.5 MB/s\u001b[0m eta \u001b[36m0:00:00\u001b[0m\n",
            "\u001b[?25h"
          ]
        }
      ]
    },
    {
      "cell_type": "code",
      "source": [
        "# Pipeline de consulta\n",
        "def descrição_colunas(df):\n",
        "    descrição = '\\n'.join([f\"`{col}`: {str(df[col].dtype)}\" for col in df.columns])\n",
        "    return \"Aqui estão os detalhes das colunas do dataframe:\\n\" + descrição\n",
        "\n",
        "# Definição de módulos da pipeline\n",
        "def pipeline_consulta(df):\n",
        "    instruction_str = (\n",
        "        \"1. Converta a consulta para código Python executável usando Pandas.\\n\"\n",
        "        \"2. A linha final do código deve ser uma expressão Python que possa ser chamada com a função `eval()`.\\n\"\n",
        "        \"3. O código deve representar uma solução para a consulta.\\n\"\n",
        "        \"4. IMPRIMA APENAS A EXPRESSÃO.\\n\"\n",
        "        \"5. Não coloque a expressão entre aspas.\\n\")\n",
        "\n",
        "    pandas_prompt_str = (\n",
        "        \"Você está trabalhando com um dataframe do pandas em Python chamado `df`.\\n\"\n",
        "        \"{colunas_detalhes}\\n\\n\"\n",
        "        \"Este é o resultado de `print(df.head())`:\\n\"\n",
        "        \"{df_str}\\n\\n\"\n",
        "        \"Siga estas instruções:\\n\"\n",
        "        \"{instruction_str}\\n\"\n",
        "        \"Consulta: {query_str}\\n\\n\"\n",
        "        \"Expressão:\"\n",
        ")\n",
        "\n",
        "    response_synthesis_prompt_str = (\n",
        "        \"Dada uma pergunta de entrada, atue como analista de dados e elabore uma resposta a partir dos resultados da consulta.\\n\"\n",
        "        \"Responda de forma natural, sem introduções como 'A resposta é:' ou algo semelhante.\\n\"\n",
        "        \"Consulta: {query_str}\\n\\n\"\n",
        "        \"Instruções do Pandas (opcional):\\n{pandas_instructions}\\n\\n\"\n",
        "        \"Saída do Pandas: {pandas_output}\\n\\n\"\n",
        "        \"Resposta: \\n\\n\"\n",
        "        \"Ao final, exibir o código usado em para gerar a resposta, no formato: O código utilizado foi `{pandas_instructions}`\"\n",
        ")\n",
        "\n",
        "    pandas_prompt = PromptTemplate(pandas_prompt_str).partial_format(\n",
        "    instruction_str=instruction_str,\n",
        "    df_str=df.head(5),\n",
        "    colunas_detalhes=descrição_colunas(df)\n",
        ")\n",
        "\n",
        "    pandas_output_parser = PandasInstructionParser(df)\n",
        "    response_synthesis_prompt = PromptTemplate(response_synthesis_prompt_str)\n",
        "\n",
        "    # Criação do Query Pipeline\n",
        "    qp = QP(\n",
        "        modules={\n",
        "            \"input\": InputComponent(),\n",
        "            \"pandas_prompt\": pandas_prompt,\n",
        "            \"llm1\": llm,\n",
        "            \"pandas_output_parser\": pandas_output_parser,\n",
        "            \"response_synthesis_prompt\": response_synthesis_prompt,\n",
        "            \"llm2\": llm,\n",
        "        },\n",
        "        verbose=True,\n",
        "    )\n",
        "    qp.add_chain([\"input\", \"pandas_prompt\", \"llm1\", \"pandas_output_parser\"])\n",
        "    qp.add_links(\n",
        "        [\n",
        "            Link(\"input\", \"response_synthesis_prompt\", dest_key=\"query_str\"),\n",
        "            Link(\"llm1\", \"response_synthesis_prompt\", dest_key=\"pandas_instructions\"),\n",
        "            Link(\"pandas_output_parser\", \"response_synthesis_prompt\", dest_key=\"pandas_output\"),\n",
        "        ]\n",
        "    )\n",
        "    qp.add_link(\"response_synthesis_prompt\", \"llm2\")\n",
        "    return qp"
      ],
      "metadata": {
        "id": "vAEu-u8bwDhI"
      },
      "execution_count": null,
      "outputs": []
    },
    {
      "cell_type": "code",
      "source": [
        "!pip install fpdf -q"
      ],
      "metadata": {
        "colab": {
          "base_uri": "https://localhost:8080/"
        },
        "id": "ksUh7rGFyf5w",
        "outputId": "a94985e4-78a9-411a-cb65-9d574f0c8621"
      },
      "execution_count": null,
      "outputs": [
        {
          "output_type": "stream",
          "name": "stdout",
          "text": [
            "  Preparing metadata (setup.py) ... \u001b[?25l\u001b[?25hdone\n",
            "  Building wheel for fpdf (setup.py) ... \u001b[?25l\u001b[?25hdone\n"
          ]
        }
      ]
    },
    {
      "cell_type": "code",
      "source": [
        "import gradio as gr\n",
        "from fpdf import FPDF\n",
        "from datetime import datetime\n",
        "\n",
        "# Função para carregar os dados\n",
        "def carregar_dados(caminho_arquivo, df_estado):\n",
        "    if caminho_arquivo is None or caminho_arquivo == \"\":\n",
        "        return \"Por favor, faça o upload de um arquivo CSV para analisar.\", pd.DataFrame(), df_estado\n",
        "    try:\n",
        "        df = pd.read_csv(caminho_arquivo)\n",
        "        return \"Arquivo carregado com sucesso!\", df.head(), df\n",
        "    except Exception as e:\n",
        "        return f\"Erro ao carregar arquivo: {str(e)}\", pd.DataFrame(), df_estado\n",
        "\n",
        "# Função para processar a pergunta\n",
        "def processar_pergunta(pergunta, df_estado):\n",
        "    if df_estado is not None and pergunta:\n",
        "        qp = pipeline_consulta(df_estado)\n",
        "        resposta = qp.run(query_str=pergunta)\n",
        "        return resposta.message.content\n",
        "    return \"\"\n",
        "\n",
        "# Função para adicionar a pergunta e a resposta ao historico\n",
        "def add_historico(pergunta, resposta, historico_estado):\n",
        "    if pergunta and resposta:\n",
        "        historico_estado.append((pergunta, resposta))\n",
        "        gr.Info(\"Adicionado ao PDF!\", duration=2)\n",
        "        return historico_estado\n",
        "\n",
        "# Função para gerar o PDF\n",
        "def gerar_pdf(historico_estado):\n",
        "    if not historico_estado:\n",
        "        return \"Nenhum dado para adicionar ao PDF.\", None\n",
        "\n",
        "    # Gerar nome de arquivo com timestamp\n",
        "    timestamp = datetime.now().strftime(\"%Y%m%d%H%M%S\")\n",
        "    caminho_pdf = f\"relatorio_perguntas_respostas_{timestamp}.pdf\"\n",
        "\n",
        "    pdf = FPDF()\n",
        "    pdf.add_page()\n",
        "    pdf.set_auto_page_break(auto=True, margin=15)\n",
        "\n",
        "    for pergunta, resposta in historico_estado:\n",
        "        pdf.set_font(\"Arial\", 'B', 14)\n",
        "        pdf.multi_cell(0, 8, txt=pergunta)\n",
        "        pdf.ln(2)\n",
        "        pdf.set_font(\"Arial\", '', 12)\n",
        "        pdf.multi_cell(0, 8, txt=resposta)\n",
        "        pdf.ln(6)\n",
        "\n",
        "    pdf.output(caminho_pdf)\n",
        "    return caminho_pdf\n",
        "\n",
        "# Função para limpar a pergunta e a resposta\n",
        "def limpar_pergunta_resposta():\n",
        "    return \"\", \"\"\n",
        "\n",
        "# Função para resetar a aplicação\n",
        "def resetar_aplicação():\n",
        "    return None, \"A aplicação foi resetada. Por favor, faça upload de um novo arquivo CSV.\", pd.DataFrame(), \"\", None, [], \"\"\n",
        "\n",
        "# Criação da interface gradio\n",
        "with gr.Blocks(theme=\"Soft\") as app:\n",
        "\n",
        "    # Título da app\n",
        "    gr.Markdown(\"# Analisando os dados🔎🎲\")\n",
        "\n",
        "    # Descrição\n",
        "    gr.Markdown(\"\"\"\n",
        "    Carregue um arquivo CSV e faça perguntas sobre os dados. A cada pergunta, você poderá\n",
        "    visualizar a resposta e, se desejar, adicionar essa interação ao PDF final, basta clicar\n",
        "    em \"Adicionar ao histórico do PDF\". Para fazer uma nova pergunta, clique em \"Limpar pergunta e resultado\".\n",
        "    Após definir as perguntas e respostas no histórico, clique em \"Gerar PDF\". Assim, será possível\n",
        "    baixar um PDF com o registro completo das suas interações. Se você quiser analisar um novo dataset,\n",
        "    basta clicar em \"Quero analisar outro dataset\" ao final da página.\n",
        "    \"\"\")\n",
        "\n",
        "    # Campo de entrada de arquivos\n",
        "    input_arquivo = gr.File(file_count=\"single\", type=\"filepath\", label=\"Upload CSV\")\n",
        "\n",
        "    # Status de upload\n",
        "    upload_status = gr.Textbox(label=\"Status do Upload:\")\n",
        "\n",
        "    # Tabela de dados\n",
        "    tabela_dados = gr.DataFrame()\n",
        "\n",
        "    # Exemplos de perguntas\n",
        "    gr.Markdown(\"\"\"\n",
        "    Exemplos de perguntas:\n",
        "    1. Qual é o número de registros no arquivo?\n",
        "    2. Quais são os tipos de dados das colunas?\n",
        "    3. Quais são as estatísticas descritivas das colunas numéricas?\n",
        "    \"\"\")\n",
        "\n",
        "    # Campo de entrada de texto\n",
        "    input_pergunta = gr.Textbox(label=\"Digite sua pergunta sobre os dados\")\n",
        "\n",
        "    # Botão de envio posicionado após a pergunta\n",
        "    botao_submeter = gr.Button(\"Enviar\")\n",
        "\n",
        "    # Componente de resposta\n",
        "    output_resposta = gr.Textbox(label=\"Resposta\")\n",
        "\n",
        "    # Botões para limpar a pergunta e a resposta, adicionar ao historico e gerar o PDF\n",
        "    with gr.Row():\n",
        "        botao_limpeza = gr.Button(\"Limpar pergunta e resultado\")\n",
        "        botao_add_pdf = gr.Button(\"Adicionar ao histórico do PDF\")\n",
        "        botao_gerar_pdf = gr.Button(\"Gerar PDF\")\n",
        "\n",
        "    # Componente de download\n",
        "    arquivo_pdf = gr.File(label=\"Download do PDF\")\n",
        "\n",
        "    # Botão para resetar a aplicação\n",
        "    botao_resetar = gr.Button(\"Quero analisar outro dataset!\")\n",
        "\n",
        "    # Gerenciamento de estados\n",
        "    df_estado = gr.State(value=None)  # Estado para o dataframe\n",
        "    historico_estado = gr.State(value=[])  # Estado para o histórico\n",
        "\n",
        "    # Conectando funções aos componentes\n",
        "    input_arquivo.change(fn=carregar_dados,\n",
        "                         inputs=[input_arquivo, df_estado],\n",
        "                         outputs=[upload_status, tabela_dados, df_estado])\n",
        "\n",
        "    botao_submeter.click(fn=processar_pergunta,\n",
        "                         inputs=[input_pergunta, df_estado],\n",
        "                         outputs=output_resposta)\n",
        "\n",
        "    botao_limpeza.click(fn=limpar_pergunta_resposta,\n",
        "                        inputs=[],\n",
        "                        outputs=[input_pergunta, output_resposta])\n",
        "\n",
        "    botao_add_pdf.click(fn=add_historico,\n",
        "                        inputs=[input_pergunta, output_resposta, historico_estado],\n",
        "                        outputs=historico_estado)\n",
        "\n",
        "    botao_gerar_pdf.click(fn=gerar_pdf,\n",
        "                          inputs=[historico_estado],\n",
        "                          outputs=arquivo_pdf)\n",
        "\n",
        "    botao_resetar.click(fn=resetar_aplicação,\n",
        "                        inputs=[],\n",
        "                        outputs=[input_arquivo, upload_status, tabela_dados, output_resposta, arquivo_pdf, historico_estado, input_pergunta])\n",
        "\n",
        "    app.launch(debug=True)"
      ],
      "metadata": {
        "colab": {
          "base_uri": "https://localhost:8080/",
          "height": 1000
        },
        "id": "ZR3ZiR8krxXQ",
        "outputId": "f59770f3-cdb2-450b-c680-57a5ec73aa68"
      },
      "execution_count": null,
      "outputs": [
        {
          "output_type": "stream",
          "name": "stdout",
          "text": [
            "Running Gradio in a Colab notebook requires sharing enabled. Automatically setting `share=True` (you can turn this off by setting `share=False` in `launch()` explicitly).\n",
            "\n",
            "Colab notebook detected. This cell will run indefinitely so that you can see errors and logs. To turn off, set debug=False in launch().\n",
            "* Running on public URL: https://5d1a62592d8cc78025.gradio.live\n",
            "\n",
            "This share link expires in 72 hours. For free permanent hosting and GPU upgrades, run `gradio deploy` from the terminal in the working directory to deploy to Hugging Face Spaces (https://huggingface.co/spaces)\n"
          ]
        },
        {
          "output_type": "display_data",
          "data": {
            "text/plain": [
              "<IPython.core.display.HTML object>"
            ],
            "text/html": [
              "<div><iframe src=\"https://5d1a62592d8cc78025.gradio.live\" width=\"100%\" height=\"500\" allow=\"autoplay; camera; microphone; clipboard-read; clipboard-write;\" frameborder=\"0\" allowfullscreen></iframe></div>"
            ]
          },
          "metadata": {}
        },
        {
          "output_type": "stream",
          "name": "stdout",
          "text": [
            "\u001b[1;3;38;2;155;135;227m> Running module input with input: \n",
            "query_str: Qual é o número de registros no arquivo?\n",
            "\n",
            "\u001b[0m\u001b[1;3;38;2;155;135;227m> Running module pandas_prompt with input: \n",
            "query_str: Qual é o número de registros no arquivo?\n",
            "\n",
            "\u001b[0m\u001b[1;3;38;2;155;135;227m> Running module llm1 with input: \n",
            "messages: Você está trabalhando com um dataframe do pandas em Python chamado `df`.\n",
            "Aqui estão os detalhes das colunas do dataframe:\n",
            "`ID_compra`: object\n",
            "`filial`: object\n",
            "`cidade`: object\n",
            "`tipo_cliente`: object\n",
            "`...\n",
            "\n",
            "\u001b[0m\u001b[1;3;38;2;155;135;227m> Running module pandas_output_parser with input: \n",
            "input: assistant: len(df)\n",
            "\n",
            "\u001b[0m\u001b[1;3;38;2;155;135;227m> Running module response_synthesis_prompt with input: \n",
            "query_str: Qual é o número de registros no arquivo?\n",
            "pandas_instructions: assistant: len(df)\n",
            "pandas_output: 1000\n",
            "\n",
            "\u001b[0m\u001b[1;3;38;2;155;135;227m> Running module llm2 with input: \n",
            "messages: Dada uma pergunta de entrada, atue como analista de dados e elabore uma resposta a partir dos resultados da consulta.\n",
            "Responda de forma natural, sem introduções como 'A resposta é:' ou algo semelhante...\n",
            "\n",
            "\u001b[0m\u001b[1;3;38;2;155;135;227m> Running module input with input: \n",
            "query_str: Quais são os tipos de dados das colunas?\n",
            "\n",
            "\u001b[0m\u001b[1;3;38;2;155;135;227m> Running module pandas_prompt with input: \n",
            "query_str: Quais são os tipos de dados das colunas?\n",
            "\n",
            "\u001b[0m\u001b[1;3;38;2;155;135;227m> Running module llm1 with input: \n",
            "messages: Você está trabalhando com um dataframe do pandas em Python chamado `df`.\n",
            "Aqui estão os detalhes das colunas do dataframe:\n",
            "`ID_compra`: object\n",
            "`filial`: object\n",
            "`cidade`: object\n",
            "`tipo_cliente`: object\n",
            "`...\n",
            "\n",
            "\u001b[0m\u001b[1;3;38;2;155;135;227m> Running module pandas_output_parser with input: \n",
            "input: assistant: df.dtypes\n",
            "\n",
            "\u001b[0m\u001b[1;3;38;2;155;135;227m> Running module response_synthesis_prompt with input: \n",
            "query_str: Quais são os tipos de dados das colunas?\n",
            "pandas_instructions: assistant: df.dtypes\n",
            "pandas_output: ID_compra           object\n",
            "filial              object\n",
            "cidade              object\n",
            "tipo_cliente        object\n",
            "genero              object\n",
            "tipo_produto        object\n",
            "preco_unitario     float64\n",
            "quantidade ...\n",
            "\n",
            "\u001b[0m\u001b[1;3;38;2;155;135;227m> Running module llm2 with input: \n",
            "messages: Dada uma pergunta de entrada, atue como analista de dados e elabore uma resposta a partir dos resultados da consulta.\n",
            "Responda de forma natural, sem introduções como 'A resposta é:' ou algo semelhante...\n",
            "\n",
            "\u001b[0mKeyboard interruption in main thread... closing server.\n",
            "Killing tunnel 127.0.0.1:7860 <> https://5d1a62592d8cc78025.gradio.live\n"
          ]
        }
      ]
    },
    {
      "cell_type": "code",
      "source": [],
      "metadata": {
        "id": "aACPBFsftJsE"
      },
      "execution_count": null,
      "outputs": []
    }
  ]
}